{
 "cells": [
  {
   "cell_type": "code",
   "execution_count": 1,
   "id": "3a5b36c9",
   "metadata": {
    "tags": []
   },
   "outputs": [],
   "source": [
    "import torch\n",
    "import syft as sy"
   ]
  },
  {
   "cell_type": "code",
   "execution_count": 2,
   "id": "f97b584b",
   "metadata": {
    "tags": []
   },
   "outputs": [],
   "source": [
    "# This is a hook for the clients\n",
    "hook = sy.TorchHook(torch)"
   ]
  },
  {
   "cell_type": "code",
   "execution_count": 3,
   "id": "e34141c4",
   "metadata": {
    "tags": []
   },
   "outputs": [],
   "source": [
    "# Cleate a client object to hold a set of clients\n",
    "\n",
    "client = sy.VirtualWorker(hook, id='client')"
   ]
  },
  {
   "cell_type": "code",
   "execution_count": 4,
   "id": "0db5488d",
   "metadata": {
    "tags": []
   },
   "outputs": [
    {
     "data": {
      "text/plain": [
       "<VirtualWorker id:client #objects:0>"
      ]
     },
     "execution_count": 4,
     "metadata": {},
     "output_type": "execute_result"
    }
   ],
   "source": [
    "client"
   ]
  },
  {
   "cell_type": "code",
   "execution_count": 5,
   "id": "68b9d4f8",
   "metadata": {
    "tags": []
   },
   "outputs": [
    {
     "data": {
      "text/plain": [
       "{}"
      ]
     },
     "execution_count": 5,
     "metadata": {},
     "output_type": "execute_result"
    }
   ],
   "source": [
    "# Check the content of the object\n",
    "client._objects"
   ]
  },
  {
   "cell_type": "code",
   "execution_count": 6,
   "id": "8688fa39-879d-41fb-9ba9-38a27801583c",
   "metadata": {
    "tags": []
   },
   "outputs": [
    {
     "data": {
      "text/plain": [
       "tensor([1., 2., 3.])"
      ]
     },
     "execution_count": 6,
     "metadata": {},
     "output_type": "execute_result"
    }
   ],
   "source": [
    "# Create a tensor for client \n",
    "\n",
    "x_tensor = torch.Tensor([1,2,3])\n",
    "\n",
    "x_tensor"
   ]
  },
  {
   "cell_type": "code",
   "execution_count": 7,
   "id": "60b0911d-502c-4263-9517-cb54b5a3b40d",
   "metadata": {
    "tags": []
   },
   "outputs": [],
   "source": [
    "# send the created tensor to the client which will result to a pointer\n",
    "\n",
    "x_tensor = x_tensor.send(client)"
   ]
  },
  {
   "cell_type": "code",
   "execution_count": 8,
   "id": "209c54f4-6683-4144-b7ef-db44c4b7ceca",
   "metadata": {
    "tags": []
   },
   "outputs": [
    {
     "data": {
      "text/plain": [
       "(Wrapper)>[PointerTensor | me:83092008657 -> client:21247900431]"
      ]
     },
     "execution_count": 8,
     "metadata": {},
     "output_type": "execute_result"
    }
   ],
   "source": [
    "x_tensor # Me is the server pointing to the client"
   ]
  },
  {
   "cell_type": "code",
   "execution_count": 9,
   "id": "8c1c3c64-a809-4557-8073-6f43cde25b62",
   "metadata": {
    "tags": []
   },
   "outputs": [
    {
     "data": {
      "text/plain": [
       "{21247900431: tensor([1., 2., 3.])}"
      ]
     },
     "execution_count": 9,
     "metadata": {},
     "output_type": "execute_result"
    }
   ],
   "source": [
    "# Check the object again\n",
    "client._objects"
   ]
  },
  {
   "cell_type": "code",
   "execution_count": 10,
   "id": "b84082bf-d80a-4333-8843-b37827b5dc31",
   "metadata": {
    "tags": []
   },
   "outputs": [
    {
     "data": {
      "text/plain": [
       "True"
      ]
     },
     "execution_count": 10,
     "metadata": {},
     "output_type": "execute_result"
    }
   ],
   "source": [
    "x_tensor.location == client"
   ]
  },
  {
   "cell_type": "code",
   "execution_count": 11,
   "id": "7da9b354-d6d0-405d-9d8b-a46a02a830d2",
   "metadata": {
    "tags": []
   },
   "outputs": [
    {
     "data": {
      "text/plain": [
       "'client'"
      ]
     },
     "execution_count": 11,
     "metadata": {},
     "output_type": "execute_result"
    }
   ],
   "source": [
    "client.id"
   ]
  },
  {
   "cell_type": "code",
   "execution_count": 12,
   "id": "0e71d03d-5edc-4134-9a3d-f02c19b21128",
   "metadata": {
    "tags": []
   },
   "outputs": [
    {
     "data": {
      "text/plain": [
       "True"
      ]
     },
     "execution_count": 12,
     "metadata": {},
     "output_type": "execute_result"
    }
   ],
   "source": [
    "x_tensor.location.id == client.id"
   ]
  },
  {
   "cell_type": "code",
   "execution_count": 13,
   "id": "f9a97967-2a0f-4e27-b84e-52a8ac7f1e2a",
   "metadata": {
    "tags": []
   },
   "outputs": [],
   "source": [
    "x_tensor = x_tensor.get()"
   ]
  },
  {
   "cell_type": "code",
   "execution_count": 14,
   "id": "6f6c00df-c58f-4e78-a01a-ee04c1a18d88",
   "metadata": {
    "tags": []
   },
   "outputs": [
    {
     "data": {
      "text/plain": [
       "tensor([1., 2., 3.])"
      ]
     },
     "execution_count": 14,
     "metadata": {},
     "output_type": "execute_result"
    }
   ],
   "source": [
    "x_tensor"
   ]
  },
  {
   "cell_type": "code",
   "execution_count": null,
   "id": "6b95da63-26e7-4cf5-8805-986df4a45757",
   "metadata": {},
   "outputs": [],
   "source": []
  },
  {
   "cell_type": "code",
   "execution_count": null,
   "id": "fb5c364c-b931-47ba-a637-07b7559f74ed",
   "metadata": {},
   "outputs": [],
   "source": []
  },
  {
   "cell_type": "code",
   "execution_count": null,
   "id": "abc29ba2-82fb-486f-a1a3-c5488a389ef0",
   "metadata": {},
   "outputs": [],
   "source": []
  },
  {
   "cell_type": "code",
   "execution_count": null,
   "id": "0c2685d6-affa-4d2b-b335-e6886a2adf82",
   "metadata": {},
   "outputs": [],
   "source": []
  },
  {
   "cell_type": "code",
   "execution_count": null,
   "id": "27d8b374-12a9-4bc5-a6cf-5634700b55ea",
   "metadata": {},
   "outputs": [],
   "source": []
  }
 ],
 "metadata": {
  "kernelspec": {
   "display_name": "Python 3 (ipykernel)",
   "language": "python",
   "name": "python3"
  },
  "language_info": {
   "codemirror_mode": {
    "name": "ipython",
    "version": 3
   },
   "file_extension": ".py",
   "mimetype": "text/x-python",
   "name": "python",
   "nbconvert_exporter": "python",
   "pygments_lexer": "ipython3",
   "version": "3.7.16"
  }
 },
 "nbformat": 4,
 "nbformat_minor": 5
}
